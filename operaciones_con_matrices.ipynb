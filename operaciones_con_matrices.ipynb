{
  "nbformat": 4,
  "nbformat_minor": 0,
  "metadata": {
    "colab": {
      "provenance": [],
      "authorship_tag": "ABX9TyNNkoEMnF/D46pQbHHFdF2S",
      "include_colab_link": true
    },
    "kernelspec": {
      "name": "python3",
      "display_name": "Python 3"
    },
    "language_info": {
      "name": "python"
    }
  },
  "cells": [
    {
      "cell_type": "markdown",
      "metadata": {
        "id": "view-in-github",
        "colab_type": "text"
      },
      "source": [
        "<a href=\"https://colab.research.google.com/github/JabesNestor/proyecto/blob/main/operaciones_con_matrices.ipynb\" target=\"_parent\"><img src=\"https://colab.research.google.com/assets/colab-badge.svg\" alt=\"Open In Colab\"/></a>"
      ]
    },
    {
      "cell_type": "markdown",
      "source": [
        "# Operaciones básicas con matrices\n",
        "se puede hacer las operaciones basicas con 2 matrices\n"
      ],
      "metadata": {
        "id": "faIIwAf0Onmj"
      }
    },
    {
      "cell_type": "code",
      "source": [
        "import numpy as np\n",
        "\n",
        "def ingresar_matriz():\n",
        "    filas = int(input(\"Ingrese el número de filas: \"))\n",
        "    columnas = int(input(\"Ingrese el número de columnas: \"))\n",
        "    matriz = []\n",
        "    print(\"Ingrese los elementos de la matriz fila por fila:\")\n",
        "    for i in range(filas):\n",
        "        fila = []\n",
        "        for j in range(columnas):\n",
        "            elemento = float(input(f\"Ingrese el elemento [{i+1},{j+1}]: \"))\n",
        "            fila.append(elemento)\n",
        "        matriz.append(fila)\n",
        "    return np.array(matriz)\n",
        "\n",
        "def suma_matrices(matriz1, matriz2):\n",
        "    return matriz1 + matriz2\n",
        "\n",
        "def resta_matrices(matriz1, matriz2):\n",
        "    return matriz1 - matriz2\n",
        "\n",
        "def multiplicacion_matrices(matriz1, matriz2):\n",
        "    return np.dot(matriz1, matriz2)\n",
        "\n",
        "# Ingreso de matrices\n",
        "print(\"Ingrese la primera matriz:\")\n",
        "matriz1 = ingresar_matriz()\n",
        "print(\"\\nIngrese la segunda matriz:\")\n",
        "matriz2 = ingresar_matriz()\n",
        "\n",
        "# Operaciones\n",
        "print(\"\\nOperaciones disponibles:\")\n",
        "print(\"1. Suma\")\n",
        "print(\"2. Resta\")\n",
        "print(\"3. Multiplicacion\")\n",
        "\n",
        "opcion = int(input(\"Seleccione la operación (1/2/3): \"))\n",
        "\n",
        "if opcion == 1:\n",
        "    if matriz1.shape == matriz2.shape:\n",
        "        resultado = suma_matrices(matriz1, matriz2)\n",
        "        print(\"\\nLa suma de las matrices es:\")\n",
        "        print(resultado)\n",
        "    else:\n",
        "        print(\"\\nLas matrices deben tener la misma dimensión para sumarse.\")\n",
        "elif opcion == 2:\n",
        "    if matriz1.shape == matriz2.shape:\n",
        "        resultado = resta_matrices(matriz1, matriz2)\n",
        "        print(\"\\nLa resta de las matrices es:\")\n",
        "        print(resultado)\n",
        "    else:\n",
        "        print(\"\\nLas matrices deben tener la misma dimensión para restarse.\")\n",
        "elif opcion == 3:\n",
        "    if matriz1.shape[1] == matriz2.shape[0]:\n",
        "        resultado = multiplicacion_matrices(matriz1, matriz2)\n",
        "        print(\"\\nEl producto de las matrices es:\")\n",
        "        print(resultado)\n",
        "    else:\n",
        "        print(\"\\nEl número de columnas de la primera matriz debe ser igual al número de filas de la segunda matriz para multiplicarse.\")\n",
        "else:\n",
        "    print(\"\\nOpción no válida.\")"
      ],
      "metadata": {
        "colab": {
          "base_uri": "https://localhost:8080/"
        },
        "id": "IhyAPbZZMWFZ",
        "outputId": "b7c5a3a1-ccd1-4798-fb28-bb3ba0f7e81a"
      },
      "execution_count": null,
      "outputs": [
        {
          "output_type": "stream",
          "name": "stdout",
          "text": [
            "Ingrese la primera matriz:\n"
          ]
        }
      ]
    }
  ]
}